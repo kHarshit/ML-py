{
 "cells": [
  {
   "cell_type": "markdown",
   "metadata": {},
   "source": [
    "# Support Vector Machines"
   ]
  },
  {
   "cell_type": "code",
   "execution_count": 2,
   "metadata": {},
   "outputs": [],
   "source": [
    "import numpy as np\n",
    "import pandas as pd\n",
    "import matplotlib as plt\n",
    "%matplotlib inline"
   ]
  },
  {
   "cell_type": "markdown",
   "metadata": {},
   "source": [
    "## Create some data"
   ]
  },
  {
   "cell_type": "code",
   "execution_count": 4,
   "metadata": {},
   "outputs": [],
   "source": [
    "data = {-1: np.array([[1, 7],\n",
    "                     [2, 8],\n",
    "                     [3, 8]]),\n",
    "       1: np.array([[5, 1],\n",
    "                   [6, -1],\n",
    "                   [7, 3]])}"
   ]
  },
  {
   "cell_type": "markdown",
   "metadata": {},
   "source": [
    "## Functionality"
   ]
  },
  {
   "cell_type": "code",
   "execution_count": 5,
   "metadata": {},
   "outputs": [],
   "source": [
    "class SVM:\n",
    "    def __init__(self, visualize=True):\n",
    "        self.visualize = visualize\n",
    "        self.colors = {1: 'b', -1: 'g'}\n",
    "        if self.visualize:\n",
    "            self.fig = plt.figure()\n",
    "            self.ax = self.fig.add_subplot(1, 1, 1)\n",
    "    \n",
    "    def fit(self, data):\n",
    "        self.data = data\n",
    "        opt_dict = {}\n",
    "        transforms = [[1, 1],\n",
    "                     [-1, 1],\n",
    "                     [-1, -1],\n",
    "                     [1, -1]]\n",
    "        all_data = []\n",
    "        for yi in self.data:\n",
    "            for featureset in self.data[yi]:\n",
    "                for feature in featureset:\n",
    "                    all_data.append(feature)\n",
    "        \n",
    "        step_sizes = [self.max_feature_value * 0.1]\n",
    "    \n",
    "    def predict(self, features):\n",
    "        # sign(w.x + b)\n",
    "        class_sign = np.sign(np.dot(np.array(features), self.w) + b)\n",
    "        return class_sign"
   ]
  },
  {
   "cell_type": "code",
   "execution_count": null,
   "metadata": {},
   "outputs": [],
   "source": []
  }
 ],
 "metadata": {
  "kernelspec": {
   "display_name": "Python 3",
   "language": "python",
   "name": "python3"
  },
  "language_info": {
   "codemirror_mode": {
    "name": "ipython",
    "version": 3
   },
   "file_extension": ".py",
   "mimetype": "text/x-python",
   "name": "python",
   "nbconvert_exporter": "python",
   "pygments_lexer": "ipython3",
   "version": "3.6.5"
  }
 },
 "nbformat": 4,
 "nbformat_minor": 2
}
