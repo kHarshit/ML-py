{
 "cells": [
  {
   "cell_type": "markdown",
   "metadata": {},
   "source": [
    "# K nearest neighbors"
   ]
  },
  {
   "cell_type": "code",
   "execution_count": 1,
   "metadata": {},
   "outputs": [],
   "source": [
    "import numpy as np\n",
    "import pandas as pd\n",
    "import matplotlib.pyplot as plt\n",
    "%matplotlib inline\n",
    "import warnings\n",
    "from collections import Counter"
   ]
  },
  {
   "cell_type": "markdown",
   "metadata": {},
   "source": [
    "## create some data"
   ]
  },
  {
   "cell_type": "code",
   "execution_count": 2,
   "metadata": {},
   "outputs": [],
   "source": [
    "dataset = {'g': [[1, 2],\n",
    "                [2, 3],\n",
    "                [3, 1]],\n",
    "          'r': [[6, 5],\n",
    "               [7, 7],\n",
    "               [8, 6]]}\n",
    "new_feature = [5, 7]"
   ]
  },
  {
   "cell_type": "code",
   "execution_count": 3,
   "metadata": {},
   "outputs": [
    {
     "data": {
      "text/plain": [
       "<matplotlib.collections.PathCollection at 0x7f0d2f758c18>"
      ]
     },
     "execution_count": 3,
     "metadata": {},
     "output_type": "execute_result"
    },
    {
     "data": {
      "image/png": "[encoded data removed]",
      "text/plain": [
       "<Figure size 432x288 with 1 Axes>"
      ]
     },
     "metadata": {},
     "output_type": "display_data"
    }
   ],
   "source": [
    "for i in dataset:\n",
    "    for ii in dataset[i]:\n",
    "        plt.scatter(ii[0], ii[1], s=100, color=i)  # size and color\n",
    "plt.scatter(new_feature[0], new_feature[1], s=100, marker='x')"
   ]
  },
  {
   "cell_type": "markdown",
   "metadata": {},
   "source": [
    "## write basic algorithm"
   ]
  },
  {
   "cell_type": "code",
   "execution_count": 4,
   "metadata": {},
   "outputs": [],
   "source": [
    "def euclidean_distance(arr1, arr2):\n",
    "#     distance = np.sqrt(\n",
    "#         np.sum(\n",
    "#             (np.array(features) - np.array(predict))**2\n",
    "#         ))\n",
    "    distance = np.linalg.norm(np.array(arr1) - np.array(arr2))\n",
    "    return distance"
   ]
  },
  {
   "cell_type": "code",
   "execution_count": 5,
   "metadata": {},
   "outputs": [],
   "source": [
    "def knn(data, predict, k=3):\n",
    "    if len(data) >= k:\n",
    "        # if you have suppose five groups and value of k equals to 3 then it may happen that the actual class to which\n",
    "        # the feature belong may get 2 votes and you will get lesser accuracy as a result. So, it is better to have k\n",
    "        # greater than the number of groups to be more accurate with your model\n",
    "        warnings.warn('K is set to less than number of groups')\n",
    "    distances = []\n",
    "    for group in data:\n",
    "        for features in data[group]:  # e.g. dataset['k'] = [[1, 2], [2, 3], [3, 1]]\n",
    "            euclidean_dist = euclidean_distance(features, predict)\n",
    "            distances.append([euclidean_dist, group])\n",
    "    print(distances)\n",
    "    votes = [i[1] for i in sorted(distances)[:k]]  # fist k shortest distances\n",
    "    print(votes)\n",
    "    vote_result = Counter(votes).most_common(1)[0][0]  # most common votes (majority vote)\n",
    "    print(Counter(votes).most_common(1))\n",
    "    \n",
    "    return vote_result"
   ]
  },
  {
   "cell_type": "code",
   "execution_count": 6,
   "metadata": {},
   "outputs": [
    {
     "name": "stdout",
     "output_type": "stream",
     "text": [
      "[[6.4031242374328485, 'g'], [5.0, 'g'], [6.324555320336759, 'g'], [2.23606797749979, 'r'], [2.0, 'r'], [3.1622776601683795, 'r']]\n",
      "['r', 'r', 'r']\n",
      "[('r', 3)]\n"
     ]
    },
    {
     "data": {
      "text/plain": [
       "'r'"
      ]
     },
     "execution_count": 6,
     "metadata": {},
     "output_type": "execute_result"
    }
   ],
   "source": [
    "result = knn(dataset, new_feature, 3)\n",
    "result"
   ]
  },
  {
   "cell_type": "markdown",
   "metadata": {},
   "source": [
    "most voted calss is 'r', (all three are 'r')  \n",
    "so class of new feature is r"
   ]
  },
  {
   "cell_type": "markdown",
   "metadata": {},
   "source": [
    "## plot"
   ]
  },
  {
   "cell_type": "code",
   "execution_count": 7,
   "metadata": {},
   "outputs": [
    {
     "data": {
      "text/plain": [
       "<matplotlib.collections.PathCollection at 0x7f0d2f758b70>"
      ]
     },
     "execution_count": 7,
     "metadata": {},
     "output_type": "execute_result"
    },
    {
     "data": {
      "image/png": "[encoded data removed]",
      "text/plain": [
       "<Figure size 432x288 with 1 Axes>"
      ]
     },
     "metadata": {},
     "output_type": "display_data"
    }
   ],
   "source": [
    "for i in dataset:\n",
    "    for ii in dataset[i]:\n",
    "        plt.scatter(ii[0], ii[1], s=100, color=i)  # size and color\n",
    "plt.scatter(new_feature[0], new_feature[1], s=100, marker='x', color=result)"
   ]
  },
  {
   "cell_type": "code",
   "execution_count": null,
   "metadata": {},
   "outputs": [],
   "source": []
  }
 ],
 "metadata": {
  "kernelspec": {
   "display_name": "Python 3",
   "language": "python",
   "name": "python3"
  },
  "language_info": {
   "codemirror_mode": {
    "name": "ipython",
    "version": 3
   },
   "file_extension": ".py",
   "mimetype": "text/x-python",
   "name": "python",
   "nbconvert_exporter": "python",
   "pygments_lexer": "ipython3",
   "version": "3.6.5"
  }
 },
 "nbformat": 4,
 "nbformat_minor": 2
}
